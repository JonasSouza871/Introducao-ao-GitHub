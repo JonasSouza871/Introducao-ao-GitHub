{
  "nbformat": 4,
  "nbformat_minor": 0,
  "metadata": {
    "colab": {
      "provenance": [],
      "collapsed_sections": [
        "BN66LwdId7uG",
        "w-TssgU2mwv-",
        "yCEtUo7qfQZ5",
        "7Uj5X2xEj64-",
        "Djj3KEMjl_W9"
      ],
      "authorship_tag": "ABX9TyP+cUJLV8Io9fKv8XiRDEnN",
      "include_colab_link": true
    },
    "kernelspec": {
      "name": "python3",
      "display_name": "Python 3"
    },
    "language_info": {
      "name": "python"
    }
  },
  "cells": [
    {
      "cell_type": "markdown",
      "metadata": {
        "id": "view-in-github",
        "colab_type": "text"
      },
      "source": [
        "<a href=\"https://colab.research.google.com/github/JonasSouza871/Introducao-ao-GitHub/blob/main/Python_para_Data_Science_primeiros_passos.ipynb\" target=\"_parent\"><img src=\"https://colab.research.google.com/assets/colab-badge.svg\" alt=\"Open In Colab\"/></a>"
      ]
    },
    {
      "cell_type": "markdown",
      "source": [
        " # Manipulando dados com python"
      ],
      "metadata": {
        "id": "BN66LwdId7uG"
      }
    },
    {
      "cell_type": "markdown",
      "source": [
        "## Comando de saída"
      ],
      "metadata": {
        "id": "w-TssgU2mwv-"
      }
    },
    {
      "cell_type": "code",
      "execution_count": null,
      "metadata": {
        "colab": {
          "base_uri": "https://localhost:8080/"
        },
        "id": "nTZEQLMSco3m",
        "outputId": "8e2ebc96-1530-41e3-caa7-d5a9a1293b33"
      },
      "outputs": [
        {
          "output_type": "stream",
          "name": "stdout",
          "text": [
            "hello world\n"
          ]
        }
      ],
      "source": [
        "print(\"hello world\")"
      ]
    },
    {
      "cell_type": "code",
      "source": [
        "print('jonas',22)"
      ],
      "metadata": {
        "colab": {
          "base_uri": "https://localhost:8080/"
        },
        "id": "mPevM_C8dfZ2",
        "outputId": "5b8cfc01-5054-4853-8ebb-10d607b073ae"
      },
      "execution_count": null,
      "outputs": [
        {
          "output_type": "stream",
          "name": "stdout",
          "text": [
            "jonas 22\n"
          ]
        }
      ]
    },
    {
      "cell_type": "code",
      "source": [
        "#Variáveis\n",
        "## associa um valor\n",
        "\n",
        "idade = 22\n",
        "print(idade)"
      ],
      "metadata": {
        "colab": {
          "base_uri": "https://localhost:8080/"
        },
        "id": "WeaBqRq8eGQ4",
        "outputId": "06f898f0-3da0-490d-e7d9-1e64520034f2"
      },
      "execution_count": null,
      "outputs": [
        {
          "output_type": "stream",
          "name": "stdout",
          "text": [
            "22\n"
          ]
        }
      ]
    },
    {
      "cell_type": "code",
      "source": [
        "idade = 10\n",
        "print(idade) #muda o valor\n",
        "idade #so funciona se for a utima linha da celula"
      ],
      "metadata": {
        "colab": {
          "base_uri": "https://localhost:8080/"
        },
        "id": "WgX2P67meYSV",
        "outputId": "9e14adf2-780d-43f7-8e3b-6e9abc78f0b4"
      },
      "execution_count": null,
      "outputs": [
        {
          "output_type": "stream",
          "name": "stdout",
          "text": [
            "10\n"
          ]
        },
        {
          "output_type": "execute_result",
          "data": {
            "text/plain": [
              "10"
            ]
          },
          "metadata": {},
          "execution_count": 6
        }
      ]
    },
    {
      "cell_type": "code",
      "source": [
        "nome = 'gabriel'\n",
        "nome"
      ],
      "metadata": {
        "colab": {
          "base_uri": "https://localhost:8080/",
          "height": 36
        },
        "id": "xSntfycVeo43",
        "outputId": "b2787672-0acb-4b30-f058-2cc926959a11"
      },
      "execution_count": null,
      "outputs": [
        {
          "output_type": "execute_result",
          "data": {
            "text/plain": [
              "'gabriel'"
            ],
            "application/vnd.google.colaboratory.intrinsic+json": {
              "type": "string"
            }
          },
          "metadata": {},
          "execution_count": 7
        }
      ]
    },
    {
      "cell_type": "markdown",
      "source": [
        "Regras:\n",
        "\n",
        "- Não pode colocar variável que comece com numero ex = 10_notas, 2_nomes.\n",
        "- Palavras separadas por espaço:\n",
        "nome escola, nota estudantes\n",
        "- nome de funçoes em python\n",
        "ex : print , type etc\n",
        "- Letras maiusculas e minucuslas geram diferentes variaveis\n",
        "ex: Idade diferente de idades."
      ],
      "metadata": {
        "id": "JXRrb1YZewTB"
      }
    },
    {
      "cell_type": "markdown",
      "source": [
        "## Tipos de variáveis"
      ],
      "metadata": {
        "id": "yCEtUo7qfQZ5"
      }
    },
    {
      "cell_type": "markdown",
      "source": [
        "- int = números inteiros.\n",
        "- float = armazena numeros flutuantes ou parte fracionario.\n",
        "- string = textos.\n",
        "- bool = armazena valores lógicos verdadeiro ou falso."
      ],
      "metadata": {
        "id": "jzrivoPPfUTq"
      }
    },
    {
      "cell_type": "code",
      "source": [
        "i = 5\n",
        "type(i) #tipo de I"
      ],
      "metadata": {
        "colab": {
          "base_uri": "https://localhost:8080/"
        },
        "id": "dpYcObt_fSC1",
        "outputId": "eb975ebb-a40c-422c-93b5-4fbcc7a54935"
      },
      "execution_count": null,
      "outputs": [
        {
          "output_type": "execute_result",
          "data": {
            "text/plain": [
              "int"
            ]
          },
          "metadata": {},
          "execution_count": 8
        }
      ]
    },
    {
      "cell_type": "code",
      "source": [
        "f = 9.7\n",
        "type(f)"
      ],
      "metadata": {
        "colab": {
          "base_uri": "https://localhost:8080/"
        },
        "id": "P01kcL6-frHA",
        "outputId": "55db839d-ee9e-4b76-b5c0-b37fb4a56169"
      },
      "execution_count": null,
      "outputs": [
        {
          "output_type": "execute_result",
          "data": {
            "text/plain": [
              "float"
            ]
          },
          "metadata": {},
          "execution_count": 9
        }
      ]
    },
    {
      "cell_type": "code",
      "source": [
        "s = 'jonas'\n",
        "type(s)"
      ],
      "metadata": {
        "colab": {
          "base_uri": "https://localhost:8080/"
        },
        "id": "GWHDbyPhfuZz",
        "outputId": "a8d929ed-6462-418d-c425-e1ca34c3d052"
      },
      "execution_count": null,
      "outputs": [
        {
          "output_type": "execute_result",
          "data": {
            "text/plain": [
              "str"
            ]
          },
          "metadata": {},
          "execution_count": 10
        }
      ]
    },
    {
      "cell_type": "code",
      "source": [
        "b = True\n",
        "type(b)"
      ],
      "metadata": {
        "colab": {
          "base_uri": "https://localhost:8080/"
        },
        "id": "vAY3o9nlhoQo",
        "outputId": "5e798552-140e-4176-cac9-da993d184265"
      },
      "execution_count": null,
      "outputs": [
        {
          "output_type": "execute_result",
          "data": {
            "text/plain": [
              "bool"
            ]
          },
          "metadata": {},
          "execution_count": 11
        }
      ]
    },
    {
      "cell_type": "code",
      "source": [
        "nome_aluno = \"Jonas\"\n",
        "idade_aluno = 25\n",
        "media_aluno = 9.3\n",
        "passou_ano = True\n",
        "dados_aluno = print(nome_aluno, idade_aluno, media_aluno, passou_ano)"
      ],
      "metadata": {
        "colab": {
          "base_uri": "https://localhost:8080/"
        },
        "id": "Z-4gjAV2hz6r",
        "outputId": "71c76f4e-1e14-4500-9fc9-5c6b450fb547"
      },
      "execution_count": null,
      "outputs": [
        {
          "output_type": "stream",
          "name": "stdout",
          "text": [
            "Jonas 25 9.3 True\n"
          ]
        }
      ]
    },
    {
      "cell_type": "code",
      "source": [
        "som1 = 5\n",
        "som2 = 3\n",
        "soma = som1+ som2\n",
        "print(soma)\n",
        "diferenca = som1-som2\n",
        "print(diferenca)\n",
        "media = ((5+3)/2)\n",
        "print(media)\n",
        "media_ponderada = ((5*3+4*3)/6)\n",
        "print(media_ponderada)"
      ],
      "metadata": {
        "colab": {
          "base_uri": "https://localhost:8080/"
        },
        "id": "GB3-WrBJifnK",
        "outputId": "50dc063b-72b7-4092-c89b-97c0edbbea0f"
      },
      "execution_count": null,
      "outputs": [
        {
          "output_type": "stream",
          "name": "stdout",
          "text": [
            "8\n",
            "2\n",
            "4.0\n",
            "4.5\n"
          ]
        }
      ]
    },
    {
      "cell_type": "markdown",
      "source": [
        "## Strings"
      ],
      "metadata": {
        "id": "7Uj5X2xEj64-"
      }
    },
    {
      "cell_type": "code",
      "source": [
        "s1 = 'Jonas'\n",
        "s2 = \"bia\"\n",
        "type (s1),type(s2)"
      ],
      "metadata": {
        "colab": {
          "base_uri": "https://localhost:8080/"
        },
        "id": "6mywfnk3j8XP",
        "outputId": "191be2c6-e363-4787-d475-979d5f89760f"
      },
      "execution_count": null,
      "outputs": [
        {
          "output_type": "execute_result",
          "data": {
            "text/plain": [
              "(str, str)"
            ]
          },
          "metadata": {},
          "execution_count": 24
        }
      ]
    },
    {
      "cell_type": "code",
      "source": [
        "objeto.metodo"
      ],
      "metadata": {
        "id": "qKK2DqsNkHQW"
      },
      "execution_count": null,
      "outputs": []
    },
    {
      "cell_type": "code",
      "source": [
        "Texto = \" Jonas Soiza\" #mudar e configurar o nome"
      ],
      "metadata": {
        "id": "Y4jcomxzkNRD"
      },
      "execution_count": null,
      "outputs": []
    },
    {
      "cell_type": "markdown",
      "source": [
        "Str.upper() converte uma string para maiuscula"
      ],
      "metadata": {
        "id": "K5eew_Opkdy3"
      }
    },
    {
      "cell_type": "code",
      "source": [
        "Texto.upper()"
      ],
      "metadata": {
        "colab": {
          "base_uri": "https://localhost:8080/",
          "height": 36
        },
        "id": "USAM_ppqkhfo",
        "outputId": "c40d0481-cb64-4b9b-88d9-0bbc64646af2"
      },
      "execution_count": null,
      "outputs": [
        {
          "output_type": "execute_result",
          "data": {
            "text/plain": [
              "' JONAS SOIZA'"
            ],
            "application/vnd.google.colaboratory.intrinsic+json": {
              "type": "string"
            }
          },
          "metadata": {},
          "execution_count": 29
        }
      ]
    },
    {
      "cell_type": "markdown",
      "source": [
        "str.strip() volta para o minusculo"
      ],
      "metadata": {
        "id": "5HMe6DizkhB3"
      }
    },
    {
      "cell_type": "code",
      "source": [
        "Texto.strip()"
      ],
      "metadata": {
        "colab": {
          "base_uri": "https://localhost:8080/",
          "height": 36
        },
        "id": "ffgLdD3hkzHd",
        "outputId": "d4afc51c-e622-40a2-d761-d5e7cc99b75b"
      },
      "execution_count": null,
      "outputs": [
        {
          "output_type": "execute_result",
          "data": {
            "text/plain": [
              "'Jonas Soiza'"
            ],
            "application/vnd.google.colaboratory.intrinsic+json": {
              "type": "string"
            }
          },
          "metadata": {},
          "execution_count": 33
        }
      ]
    },
    {
      "cell_type": "markdown",
      "source": [
        "str.replace(antigo,novo) -> substitui uma string antiga por uma nova."
      ],
      "metadata": {
        "id": "bHgvW4Ywk_vn"
      }
    },
    {
      "cell_type": "code",
      "source": [
        "Texto.replace('i','u') #corrige o nome"
      ],
      "metadata": {
        "colab": {
          "base_uri": "https://localhost:8080/",
          "height": 36
        },
        "id": "N3-nP7kZk7zD",
        "outputId": "59be80b2-455c-4b58-9d31-aba1f5f0f1ee"
      },
      "execution_count": null,
      "outputs": [
        {
          "output_type": "execute_result",
          "data": {
            "text/plain": [
              "' Jonas Souza'"
            ],
            "application/vnd.google.colaboratory.intrinsic+json": {
              "type": "string"
            }
          },
          "metadata": {},
          "execution_count": 34
        }
      ]
    },
    {
      "cell_type": "code",
      "source": [
        "#pode-se armazena em uma variavel\n",
        "texto = Texto.strip().replace('u','i')\n",
        "print(texto) #dois comando juntos"
      ],
      "metadata": {
        "colab": {
          "base_uri": "https://localhost:8080/"
        },
        "id": "zKkqaIy7lcnl",
        "outputId": "56f83a15-32ea-44de-bf5a-10a185241d52"
      },
      "execution_count": null,
      "outputs": [
        {
          "output_type": "stream",
          "name": "stdout",
          "text": [
            "Jonas Soiza\n"
          ]
        }
      ]
    },
    {
      "cell_type": "markdown",
      "source": [
        "## Coletando dados"
      ],
      "metadata": {
        "id": "Djj3KEMjl_W9"
      }
    },
    {
      "cell_type": "markdown",
      "source": [
        "Comandos de entrada de informação"
      ],
      "metadata": {
        "id": "t6zS8FxqmICd"
      }
    },
    {
      "cell_type": "code",
      "source": [
        "nome = input('Escreva seu nome abaixo') #entrada"
      ],
      "metadata": {
        "colab": {
          "base_uri": "https://localhost:8080/"
        },
        "id": "0Fp-UbXumA7O",
        "outputId": "20dc044e-9da2-4609-c8a6-b3e051ce3708"
      },
      "execution_count": null,
      "outputs": [
        {
          "name": "stdout",
          "output_type": "stream",
          "text": [
            "Escreva seu nome abaixojonas\n"
          ]
        }
      ]
    },
    {
      "cell_type": "code",
      "source": [
        "print(nome)"
      ],
      "metadata": {
        "colab": {
          "base_uri": "https://localhost:8080/"
        },
        "id": "r1Eyf16NmQgU",
        "outputId": "9c1118ba-e359-4fe7-a702-149f4164bb92"
      },
      "execution_count": null,
      "outputs": [
        {
          "output_type": "stream",
          "name": "stdout",
          "text": [
            "jonas\n"
          ]
        }
      ]
    },
    {
      "cell_type": "markdown",
      "source": [
        "Função de dados\n",
        "- inteiros: int(dado)\n",
        "- float : float(dado)"
      ],
      "metadata": {
        "id": "G8FpK5C4extk"
      }
    },
    {
      "cell_type": "code",
      "source": [
        "ano = input(\"escreva o ano de entrada\")"
      ],
      "metadata": {
        "colab": {
          "base_uri": "https://localhost:8080/"
        },
        "id": "xSuHOgVte7CF",
        "outputId": "856574bf-388b-48b9-9f29-3cbb3f105f4d"
      },
      "execution_count": null,
      "outputs": [
        {
          "name": "stdout",
          "output_type": "stream",
          "text": [
            "escreva o ano de entrada2023\n"
          ]
        }
      ]
    },
    {
      "cell_type": "code",
      "source": [
        "type(ano)"
      ],
      "metadata": {
        "colab": {
          "base_uri": "https://localhost:8080/"
        },
        "id": "OI4-8qySfH-H",
        "outputId": "e71fad2b-2c68-4f5b-f1d3-8e5a550b816a"
      },
      "execution_count": null,
      "outputs": [
        {
          "output_type": "execute_result",
          "data": {
            "text/plain": [
              "str"
            ]
          },
          "metadata": {},
          "execution_count": 2
        }
      ]
    },
    {
      "cell_type": "code",
      "source": [
        "ano = int(input(\"escrava o ano de entrada\")) #convertendo o valor para inteiro"
      ],
      "metadata": {
        "colab": {
          "base_uri": "https://localhost:8080/"
        },
        "id": "1tb-pQq2fNq_",
        "outputId": "bd7e3dd7-53d9-4167-8849-80db6c31a084"
      },
      "execution_count": null,
      "outputs": [
        {
          "name": "stdout",
          "output_type": "stream",
          "text": [
            "escrava o ano de entrada2024\n"
          ]
        }
      ]
    },
    {
      "cell_type": "code",
      "source": [
        "type(ano)"
      ],
      "metadata": {
        "colab": {
          "base_uri": "https://localhost:8080/"
        },
        "id": "gXmpXw7TfUMm",
        "outputId": "0f39be82-a178-4c49-a104-4d7d06672058"
      },
      "execution_count": null,
      "outputs": [
        {
          "output_type": "execute_result",
          "data": {
            "text/plain": [
              "int"
            ]
          },
          "metadata": {},
          "execution_count": 4
        }
      ]
    },
    {
      "cell_type": "code",
      "source": [
        "nota = float(input(\"diga sua nota\")) #converte pra float"
      ],
      "metadata": {
        "colab": {
          "base_uri": "https://localhost:8080/"
        },
        "id": "qFMPnqrxfaUj",
        "outputId": "b578c2fb-458e-4ad4-86a5-a50212701769"
      },
      "execution_count": null,
      "outputs": [
        {
          "name": "stdout",
          "output_type": "stream",
          "text": [
            "diga sua nota7.9\n"
          ]
        }
      ]
    },
    {
      "cell_type": "code",
      "source": [
        "type(nota)"
      ],
      "metadata": {
        "colab": {
          "base_uri": "https://localhost:8080/"
        },
        "id": "A4Z8ppwAfiDy",
        "outputId": "547c5825-f580-4c57-8893-76ea59054054"
      },
      "execution_count": null,
      "outputs": [
        {
          "output_type": "execute_result",
          "data": {
            "text/plain": [
              "float"
            ]
          },
          "metadata": {},
          "execution_count": 6
        }
      ]
    },
    {
      "cell_type": "code",
      "source": [
        "nota_entrada = float(input(\"digite a nota do teste\")) #entrada\n",
        "print(f'ano de entrada {ano} - nota do teste {nota_entrada}' ) # com a chaves só roda depois do input, ou seja somente apos a entrada"
      ],
      "metadata": {
        "colab": {
          "base_uri": "https://localhost:8080/"
        },
        "id": "QWzkzV6Gfkuv",
        "outputId": "73e55302-d50e-4abb-f878-bf44dcd198b2"
      },
      "execution_count": null,
      "outputs": [
        {
          "output_type": "stream",
          "name": "stdout",
          "text": [
            "digite a nota do teste9.8\n",
            "ano de entrada 2024 - nota do teste 9.8\n"
          ]
        }
      ]
    },
    {
      "cell_type": "code",
      "source": [
        "nome = \"Ana Maria\"\n",
        "idade = 17\n",
        "print(f\"O nome da aluna é {nome} e sua idade é {idade} anos.\")"
      ],
      "metadata": {
        "colab": {
          "base_uri": "https://localhost:8080/"
        },
        "id": "9SnkSnoygIza",
        "outputId": "bbb1bf39-4575-4834-dfd0-2243cdd531c2"
      },
      "execution_count": null,
      "outputs": [
        {
          "output_type": "stream",
          "name": "stdout",
          "text": [
            "O nome da aluna é Ana Maria e sua idade é 17 anos.\n"
          ]
        }
      ]
    },
    {
      "cell_type": "code",
      "source": [
        "nome_aluno = 'Fabricio Daniel'\n",
        "idade_aluno = 15\n",
        "media_aluno = 8.45\n",
        "\n",
        "print('Nome do aluno é %s, ele tem %d anos e sua média é %f.' %(nome_aluno, idade_aluno, media_aluno))"
      ],
      "metadata": {
        "colab": {
          "base_uri": "https://localhost:8080/"
        },
        "id": "QA-hXMTMgRU_",
        "outputId": "8576321b-e650-4396-ab7a-5d795bf226c1"
      },
      "execution_count": null,
      "outputs": [
        {
          "output_type": "stream",
          "name": "stdout",
          "text": [
            "Nome do aluno é Fabricio Daniel, ele tem 15 anos e sua média é 8.450000.\n"
          ]
        }
      ]
    },
    {
      "cell_type": "code",
      "source": [
        "nome = 'jonas' #str sempre entre aspas\n",
        "idade = 22\n",
        "print('O nome do aluno é {} e ele tem {} anos.'.format(nome, idade))"
      ],
      "metadata": {
        "colab": {
          "base_uri": "https://localhost:8080/"
        },
        "id": "uWICU3vjgXto",
        "outputId": "3a09bae1-d4cf-4eb7-f4f0-e8efbb4edb8c"
      },
      "execution_count": null,
      "outputs": [
        {
          "output_type": "stream",
          "name": "stdout",
          "text": [
            "O nome do aluno é jonas e ele tem 22 anos.\n"
          ]
        }
      ]
    },
    {
      "cell_type": "code",
      "source": [
        "print('Quantidade\\tQualidade\\n5 amostras\\tAlta\\n3 amostras\\tBaixa') #\\n para pular de linha\n"
      ],
      "metadata": {
        "colab": {
          "base_uri": "https://localhost:8080/"
        },
        "id": "l0iUjp_FgyxL",
        "outputId": "63b97538-122b-4489-a867-f8e1ce81e597"
      },
      "execution_count": null,
      "outputs": [
        {
          "output_type": "stream",
          "name": "stdout",
          "text": [
            "Quantidade\tQualidade\n",
            "5 amostras\tAlta\n",
            "3 amostras\tBaixa\n"
          ]
        }
      ]
    },
    {
      "cell_type": "markdown",
      "source": [
        "### Exercícios:"
      ],
      "metadata": {
        "id": "DBnCOPb5gFZn"
      }
    },
    {
      "cell_type": "markdown",
      "source": [
        "1. Coleta e amostragem de dados\n",
        "- Crie um programa que solicite à pessoa usuária digitar seu nome, e imprima “Olá, [nome]!”.\n",
        "- Crie um programa que solicite à pessoa usuária digitar seu nome e idade, e imprima “Olá, [nome], você tem [idade] anos.”.\n",
        "- Crie um programa que solicite à pessoa usuária digitar seu nome, idade e altura em metros, e imprima “Olá, [nome], você tem [idade] anos e mede [altura] metros!”."
      ],
      "metadata": {
        "id": "EC5wxhF9hJna"
      }
    },
    {
      "cell_type": "code",
      "source": [
        "#Resposdendo a letra A:\n",
        "nome = str(input(\"qual o seu nome?\"))\n",
        "print('ola {}'.format(nome))"
      ],
      "metadata": {
        "colab": {
          "base_uri": "https://localhost:8080/"
        },
        "id": "1VwdcFGFhFrN",
        "outputId": "56c02a2b-d3a6-455c-fe73-908964b61c60"
      },
      "execution_count": null,
      "outputs": [
        {
          "output_type": "stream",
          "name": "stdout",
          "text": [
            "qual o seu nome?jonas\n",
            "ola jonas\n"
          ]
        }
      ]
    },
    {
      "cell_type": "code",
      "source": [
        "#repondendo letra B:\n",
        "nome = str(input(\"Qual o seu nome\"))\n",
        "idade = int(input(\"qual a sua idade?\"))\n",
        "print('ola {}, voce tem {} anos'.format(nome, idade))"
      ],
      "metadata": {
        "colab": {
          "base_uri": "https://localhost:8080/"
        },
        "id": "bz7Zflcehqba",
        "outputId": "63b9694f-fb31-49f2-fc82-794b75b8cf2f"
      },
      "execution_count": null,
      "outputs": [
        {
          "output_type": "stream",
          "name": "stdout",
          "text": [
            "Qual o seu nomejonas\n",
            "qual a sua idade?22\n",
            "ola jonas, voce tem 22 anos\n"
          ]
        }
      ]
    },
    {
      "cell_type": "code",
      "source": [
        "#Respondendo Letra C:\n",
        "nome = str(input(\"Qual o seu nome\"))\n",
        "idade = int(input(\"qual a sua idade?\"))\n",
        "altura = float(input(\"qual a sua altura?\"))\n",
        "print('olha{} voce tem{} anos e  {} altura'.format(nome, idade, altura))"
      ],
      "metadata": {
        "colab": {
          "base_uri": "https://localhost:8080/"
        },
        "id": "zSDGSgyCiBlH",
        "outputId": "c62fd54b-e4b2-47d6-95ea-d541e12b6ccf"
      },
      "execution_count": null,
      "outputs": [
        {
          "output_type": "stream",
          "name": "stdout",
          "text": [
            "Qual o seu nomejonas\n",
            "qual a sua idade?22\n",
            "qual a sua altura?1.71\n",
            "olhajonas voce tem22 anos e  1.71 altura\n"
          ]
        }
      ]
    },
    {
      "cell_type": "markdown",
      "source": [
        "Calculadora com operadores\n",
        "- Crie um programa que solicite dois valores numéricos à pessoa usuária e imprima a soma dos dois valores.\n",
        "- Crie um programa que solicite três valores numéricos à pessoa usuária e imprima a soma dos três valores.\n",
        "- Crie um programa que solicite dois valores numéricos à pessoa usuária e imprima a subtração do primeiro pelo o segundo valor.\n",
        "- Crie um programa que solicite dois valores numéricos à pessoa usuária e imprima a multiplicação dos dois valores.\n",
        "- Crie um programa que solicite dois valores numéricos, um numerador e um denominador, e realize a divisão entre os dois valores. Deixe claro que o valor do denominador não pode ser 0.\n",
        "- Crie um programa que solicite dois valores numéricos, um operador e uma potência, e realize a exponenciação entre esses dois valores.\n",
        "- Crie um programa que solicite dois valores numéricos, um numerador e um denominador e realize a divisão inteira entre os dois valores. Deixe claro que o valor do denominador não pode ser 0.\n",
        "- Crie um programa que solicite dois valores numéricos, um numerador e um denominador, e retorne o resto da divisão entre os dois valores. Deixe claro que o valor do denominador não pode ser 0.\n",
        "- Crie um código que solicita 3 notas de um estudante e imprima a média das notas.\n",
        "- Crie um código que calcule e imprima a média ponderada dos números 5, 12, 20 e 15 com pesos respectivamente iguais a 1, 2, 3 e 4."
      ],
      "metadata": {
        "id": "Opj_qabtiUmb"
      }
    },
    {
      "cell_type": "code",
      "source": [
        "# Letra A:\n",
        "valores = int(input(\"digite um valor\"))\n",
        "valores_2 = int(input(\"digite outro valor\"))\n",
        "soma = valores + valores_2\n",
        "print(' a soma dos valores é {}'.format(soma))"
      ],
      "metadata": {
        "colab": {
          "base_uri": "https://localhost:8080/"
        },
        "id": "QmDhxDqOioce",
        "outputId": "70e5c771-80e2-47a8-f381-368da88cf575"
      },
      "execution_count": null,
      "outputs": [
        {
          "output_type": "stream",
          "name": "stdout",
          "text": [
            "digite um valor25\n",
            "digite outro valor2\n",
            " a soma dos valores é 27\n"
          ]
        }
      ]
    },
    {
      "cell_type": "code",
      "source": [
        "# Letra B:\n",
        "valores = int(input(\"digite um valor\"))\n",
        "valores_2 = int(input(\"digite outro valor\"))\n",
        "valores_3 = int(input(\"digite mais um valor\"))\n",
        "soma = valores + valores_2 + valores_3\n",
        "print(' a soma dos valores é {}'.format(soma))"
      ],
      "metadata": {
        "colab": {
          "base_uri": "https://localhost:8080/"
        },
        "id": "bu1V_kYZjKzP",
        "outputId": "be77d756-a697-4ee8-f9ca-2ef4ef1cc50a"
      },
      "execution_count": null,
      "outputs": [
        {
          "output_type": "stream",
          "name": "stdout",
          "text": [
            "digite um valor2\n",
            "digite outro valor2\n",
            "digite mais um valor2\n",
            " a soma dos valores é 6\n"
          ]
        }
      ]
    },
    {
      "cell_type": "code",
      "source": [
        "# Letra C:\n",
        "valores = int(input(\"digite um valor\"))\n",
        "valores_2 = int(input(\"digite outro valor\"))\n",
        "diff = valores - valores_2\n",
        "print(' a diferença dos valores é {}'.format(diff))"
      ],
      "metadata": {
        "colab": {
          "base_uri": "https://localhost:8080/"
        },
        "id": "kojDmIu_jYUa",
        "outputId": "9e030ebd-4953-48e5-ebee-3354ce228b9f"
      },
      "execution_count": null,
      "outputs": [
        {
          "output_type": "stream",
          "name": "stdout",
          "text": [
            "digite um valor5\n",
            "digite outro valor7\n",
            " a diferença dos valores é -2\n"
          ]
        }
      ]
    },
    {
      "cell_type": "code",
      "source": [
        "# Letra D:\n",
        "valores = int(input(\"digite um valor\"))\n",
        "valores_2 = int(input(\"digite outro valor\"))\n",
        "mult = valores * valores_2\n",
        "print(' a multiplicação dos valores é {}'.format(mult))"
      ],
      "metadata": {
        "colab": {
          "base_uri": "https://localhost:8080/"
        },
        "id": "zY5AsnKSjs_s",
        "outputId": "bbad13dc-b2d2-46dd-8639-56dca4953bdc"
      },
      "execution_count": null,
      "outputs": [
        {
          "output_type": "stream",
          "name": "stdout",
          "text": [
            "digite um valor10\n",
            "digite outro valor50\n",
            " a multiplicação dos valores é 500\n"
          ]
        }
      ]
    },
    {
      "cell_type": "code",
      "source": [
        "# Letra E\n",
        "numerador = int(input(\"digite um valor\"))\n",
        "denominador = int(input(\"digite outro valor\"))\n",
        "if denominador == 0: #if finaliza com 2 pontos utilizar ==\n",
        "    print(\"Resultado invalido\")\n",
        "else:\n",
        "    divisao = numerador/denominador #se for diferente de 0 faz a operação\n",
        "    (print(\"O resultado da divisão é {}\".format(divisao)))\n",
        "\n"
      ],
      "metadata": {
        "colab": {
          "base_uri": "https://localhost:8080/"
        },
        "id": "jmeUw6Raj6Ij",
        "outputId": "1f8b5acc-3aed-400d-f40a-6342f3b39f93"
      },
      "execution_count": null,
      "outputs": [
        {
          "output_type": "stream",
          "name": "stdout",
          "text": [
            "digite um valor32\n",
            "digite outro valor7\n",
            "O resultado da divisão é 4.571428571428571\n"
          ]
        }
      ]
    },
    {
      "cell_type": "code",
      "source": [
        "# Letra F:\n",
        "numerador = float(input(\"digite um valor\"))\n",
        "denominador = float(input(\"digite outro valor\"))\n",
        "pot = numerador**denominador\n",
        "print('o resultado da potencia é {}'.format(pot))"
      ],
      "metadata": {
        "colab": {
          "base_uri": "https://localhost:8080/"
        },
        "id": "cmFJJyJglokr",
        "outputId": "9350f126-42a8-467d-e424-297ce4ff04d1"
      },
      "execution_count": null,
      "outputs": [
        {
          "output_type": "stream",
          "name": "stdout",
          "text": [
            "digite um valor3\n",
            "digite outro valor3\n",
            "o resultado da potencia é 27.0\n"
          ]
        }
      ]
    },
    {
      "cell_type": "code",
      "source": [
        "numerador = int(input(\"Digite um valor: \"))\n",
        "denominador = int(input(\"Digite outro valor: \"))\n",
        "\n",
        "if denominador == 0:  # Verifica se o denominador é 0\n",
        "    print(\"Resultado inválido\")\n",
        "else:\n",
        "    divisao = numerador / denominador  # Realiza a divisão\n",
        "    resto = numerador % denominador  # Calcula o resto da divisão , resto: %\n",
        "    print(\"O resultado da divisão é {}\".format(divisao))\n",
        "    print(\"O resto da divisão é {}\".format(resto))  # Exibe o resto\n"
      ],
      "metadata": {
        "colab": {
          "base_uri": "https://localhost:8080/"
        },
        "id": "I9_cUe7pl7lb",
        "outputId": "9b66b03e-d6b2-443d-98e6-945534cdb7b4"
      },
      "execution_count": null,
      "outputs": [
        {
          "output_type": "stream",
          "name": "stdout",
          "text": [
            "Digite um valor: 5\n",
            "Digite outro valor: 2\n",
            "O resultado da divisão é 2.5\n",
            "O resto da divisão é 1\n"
          ]
        }
      ]
    },
    {
      "cell_type": "code",
      "source": [
        "# Letra H:\n",
        "nota_1 = float(input(\"digite a nota 1:\"))\n",
        "nota_2 = float(input(\"digite a nota 2:\"))\n",
        "nota_3 = float(input(\"digite a nota 3:\"))\n",
        "media = (nota_1 + nota_2+ nota_3)/3\n",
        "print(' a media dos alunos foi {}'.format(media))"
      ],
      "metadata": {
        "colab": {
          "base_uri": "https://localhost:8080/"
        },
        "id": "WLVHcRjemV5X",
        "outputId": "f05bbf75-e3ca-457a-cda7-d2af9c734019"
      },
      "execution_count": null,
      "outputs": [
        {
          "output_type": "stream",
          "name": "stdout",
          "text": [
            "digite a nota 1:3\n",
            "digite a nota 2:2\n",
            "digite a nota 3:1\n",
            " a media dos alunos foi 2.0\n"
          ]
        }
      ]
    },
    {
      "cell_type": "code",
      "source": [
        "#letra I:\n",
        "#números 5, 12, 20 e 15 com pesos respectivamente iguais a 1, 2, 3 e 4.\n",
        "media_ponderada = (5*1 + 12*2 + 20*3 + 15*4)/(1+2+3+4)# media ponderada é a divisao dos pesos\n",
        "print('o valor de media poderada é {}'.format(media_ponderada))"
      ],
      "metadata": {
        "colab": {
          "base_uri": "https://localhost:8080/"
        },
        "id": "DHq9vMXem80q",
        "outputId": "dd2cd3bb-fdcd-4c07-b55c-11f70f509b9a"
      },
      "execution_count": null,
      "outputs": [
        {
          "output_type": "stream",
          "name": "stdout",
          "text": [
            "o valor de media poderada é 14.9\n"
          ]
        }
      ]
    },
    {
      "cell_type": "markdown",
      "source": [
        "**Questão 4**\n",
        "- Crie uma variável chamada “frase” e atribua a ela uma string de sua escolha. Em seguida, imprima a frase na tela.\n",
        "- Crie um código que solicite uma frase e depois imprima a frase na tela.\n",
        "- Crie um código que solicite uma frase à pessoa usuária e imprima a mesma frase digitada mas com todas as letras maiúsculas.\n",
        "- Crie um código que solicite uma frase à pessoa usuária e imprima a mesma frase digitada mas com todas as letras minúsculas.\n",
        "- Crie uma variável chamada “frase” e atribua a ela uma string de sua escolha. Em seguida, imprima a frase sem espaços em branco no início e no fim.\n",
        "- Crie um código que solicite uma frase à pessoa usuária e imprima a mesma frase sem espaços em branco no início e no fim.\n",
        "- Crie um código que solicite uma frase à pessoa usuária e imprima a mesma frase sem espaços em branco no início e no fim e em letras minúsculas.\n",
        "- Crie um código que solicite uma frase à pessoa usuária e imprima a mesma frase com todas as vogais “e” trocadas pela letra “f”.\n",
        "- Crie um código que solicite uma frase à pessoa usuária e imprima a mesma frase com todas as vogais “a” trocadas pela caractere “@”.\n",
        "- Crie um código que solicite uma frase à pessoa usuária e imprima a mesma frase com todas as consoantes “s” trocadas pelo caractere “$”."
      ],
      "metadata": {
        "id": "qaksqUt8n4gi"
      }
    },
    {
      "cell_type": "code",
      "source": [
        "# Letra A:"
      ],
      "metadata": {
        "id": "yOQdsT4po7pt"
      },
      "execution_count": null,
      "outputs": []
    },
    {
      "cell_type": "markdown",
      "source": [
        "# Estruturas condicionais"
      ],
      "metadata": {
        "id": "p6UdCaLkb63V"
      }
    },
    {
      "cell_type": "markdown",
      "source": [
        "## O que são estruturas condicionais?\n",
        "\n",
        "- Ligado a condições, sim e não.\n",
        "- se tal coisa ocorrer, se não acontecer.\n",
        "- se a condição for verdadeira...\n",
        "- Se condição:\n",
        "   - Instruções caso a condição seja verdadeira\n",
        "- Senão\n",
        "   - Instruções caso a condição seja falsa."
      ],
      "metadata": {
        "id": "Z8FiC_d0b-L1"
      }
    },
    {
      "cell_type": "markdown",
      "source": [
        "if condição:\n",
        "- faça algo\n",
        "\n"
      ],
      "metadata": {
        "id": "MF-qse6tc_mx"
      }
    },
    {
      "cell_type": "code",
      "source": [
        "if 2<1:\n",
        "  print('condicao verdadeira')\n",
        "print('fora do bloco')"
      ],
      "metadata": {
        "colab": {
          "base_uri": "https://localhost:8080/"
        },
        "id": "vSxE_rFSdH81",
        "outputId": "9a85206b-94ab-46fe-ee4d-e38bb01a1942"
      },
      "execution_count": null,
      "outputs": [
        {
          "output_type": "stream",
          "name": "stdout",
          "text": [
            "fora do bloco\n"
          ]
        }
      ]
    },
    {
      "cell_type": "markdown",
      "source": [
        "if condição:\n",
        "- faça algo\n",
        "else:\n",
        "- faça algo\n"
      ],
      "metadata": {
        "id": "89JbrIFYdcIO"
      }
    },
    {
      "cell_type": "code",
      "source": [
        "media = float(input('digite a média:'))\n",
        "\n",
        "if media >= 6.0:\n",
        "  print('aprovado(a)')\n",
        "else:\n",
        "  print('reprovado')"
      ],
      "metadata": {
        "colab": {
          "base_uri": "https://localhost:8080/"
        },
        "id": "LAdfCWDzd99V",
        "outputId": "fc027cad-3fc5-4fad-f18e-25af56f4ff4d"
      },
      "execution_count": null,
      "outputs": [
        {
          "output_type": "stream",
          "name": "stdout",
          "text": [
            "digite a média:3\n",
            "reprovado\n"
          ]
        }
      ]
    },
    {
      "cell_type": "code",
      "source": [
        "media = float(input('digite a média:'))\n",
        "\n",
        "if media >= 6.0:\n",
        "  print('aprovado(a)')\n",
        "if 6.0 > media >= 4:\n",
        "  print('recuperação')\n",
        "else:\n",
        "  print('reprovado')"
      ],
      "metadata": {
        "colab": {
          "base_uri": "https://localhost:8080/"
        },
        "id": "dkmfeD2OeOgL",
        "outputId": "16953861-37d0-40d1-ec16-26bfdd735fb4"
      },
      "execution_count": null,
      "outputs": [
        {
          "output_type": "stream",
          "name": "stdout",
          "text": [
            "digite a média:5\n",
            "recuperação\n"
          ]
        }
      ]
    },
    {
      "cell_type": "markdown",
      "source": [
        "## Elif\n",
        "- if condição 1:\n",
        "   - faça algo\n",
        "- elif condição 2:\n",
        "   - faça outra coisa\n",
        "- elif condição3:\n",
        " - faça outra coisa\n",
        "- else:\n",
        "  - faça algo diff\n",
        "\n",
        "- Não eixste limitação"
      ],
      "metadata": {
        "id": "8y4K-TLdjR7Q"
      }
    },
    {
      "cell_type": "code",
      "source": [
        "media = float(input(\"digite a média:\"))\n",
        "\n",
        "if media >= 6.0:\n",
        "  print('aprovado(a)')\n",
        "elif 6.0 > media >= 4:\n",
        "  print('recuperação')\n",
        "elif 4.0 > media >= 3.0 :\n",
        "  print(\"talvez reprovado\")\n",
        "else:\n",
        "  print('reprovado')"
      ],
      "metadata": {
        "colab": {
          "base_uri": "https://localhost:8080/"
        },
        "id": "l7TzpxvCjQ9v",
        "outputId": "23ca2c82-1c9a-4bd1-aa59-8c277a946417"
      },
      "execution_count": null,
      "outputs": [
        {
          "output_type": "stream",
          "name": "stdout",
          "text": [
            "digite a média:3\n",
            "talvez reprovado\n"
          ]
        }
      ]
    },
    {
      "cell_type": "markdown",
      "source": [
        "## Operador Lógicos\n",
        "\n",
        "- And or e not, comparação em elemento lógicos.\n"
      ],
      "metadata": {
        "id": "ZQUaQKiDyv5v"
      }
    },
    {
      "cell_type": "code",
      "source": [
        "t1 = t2 = True\n",
        "f1 = f2 = False"
      ],
      "metadata": {
        "id": "k4VmoHnfy82f"
      },
      "execution_count": null,
      "outputs": []
    },
    {
      "cell_type": "code",
      "source": [
        "# OPERADOR AND, SO SERÁ VERDADE COMO AMBOS FOREM VERDADEIRO\n",
        "\n",
        "if t1 and f2:\n",
        "  print('expressão verdadeira') #quando for verdadeiro\n",
        "\n",
        "else:\n",
        "  print('expresão falsa') # quando for falso"
      ],
      "metadata": {
        "colab": {
          "base_uri": "https://localhost:8080/"
        },
        "id": "cIFevwCkzCY9",
        "outputId": "b9fdf0a9-583f-4462-8ce6-69a77dabe882"
      },
      "execution_count": null,
      "outputs": [
        {
          "output_type": "stream",
          "name": "stdout",
          "text": [
            "expresão falsa\n"
          ]
        }
      ]
    },
    {
      "cell_type": "code",
      "source": [
        "# OPERADOR OR, SO SERÁ VERDADE QUANDO PELO MENOS UM FOR VERDADEIRO\n",
        "\n",
        "if t1 or f2:\n",
        "  print('expressão verdadeira') #quando for verdadeiro\n",
        "\n",
        "else:\n",
        "  print('expresão falsa') # quando for falso"
      ],
      "metadata": {
        "colab": {
          "base_uri": "https://localhost:8080/"
        },
        "id": "jXwuHIadzfzE",
        "outputId": "9eedd1f1-f8f5-4b08-d127-f1831f64feaf"
      },
      "execution_count": null,
      "outputs": [
        {
          "output_type": "stream",
          "name": "stdout",
          "text": [
            "expressão verdadeira\n"
          ]
        }
      ]
    },
    {
      "cell_type": "code",
      "source": [
        "# OPERADOR NOT, INVERTE O RESULTADO BOOLEANO, TRUE VIRA FALSE E FALSE VIRA TRUE\n",
        "\n",
        "if not t1: # Se não for verdadeira retorna falsa, como t1 é true será invertido\n",
        "  print('expressão verdadeira') #quando for verdadeiro\n",
        "\n",
        "else:\n",
        "  print('expresão falsa') # quando for falso"
      ],
      "metadata": {
        "colab": {
          "base_uri": "https://localhost:8080/"
        },
        "id": "eHHcAHzdzod9",
        "outputId": "56247a7c-4364-46c4-c0f1-3c16f0cd58e9"
      },
      "execution_count": null,
      "outputs": [
        {
          "output_type": "stream",
          "name": "stdout",
          "text": [
            "expresão falsa\n"
          ]
        }
      ]
    },
    {
      "cell_type": "markdown",
      "source": [
        "### Operador IN\n",
        "- Verifica se algo esta dentro de uma lista\n"
      ],
      "metadata": {
        "id": "IfaA8izh0EQs"
      }
    },
    {
      "cell_type": "code",
      "source": [
        "Lista_nomes = 'Jonas', 'Bruno', 'marcelo','gabriel'\n",
        "Lista_nomes"
      ],
      "metadata": {
        "colab": {
          "base_uri": "https://localhost:8080/"
        },
        "id": "9FUawhGF0Ntx",
        "outputId": "6a285415-4378-4710-da7e-43aac98d5480"
      },
      "execution_count": null,
      "outputs": [
        {
          "output_type": "execute_result",
          "data": {
            "text/plain": [
              "('Jonas', 'Bruno', 'marcelo', 'gabriel')"
            ]
          },
          "metadata": {},
          "execution_count": 9
        }
      ]
    },
    {
      "cell_type": "code",
      "source": [
        "nome_1 = 'Jonas'\n",
        "nome_2 = 'Fernando'\n",
        "if nome_2 in Lista_nomes: #Verifica se existe na variavel lista\n",
        "  print('{} está na listta'.format(nome_2))\n",
        "else:\n",
        "   print('{} não está na listta'.format(nome_2))"
      ],
      "metadata": {
        "colab": {
          "base_uri": "https://localhost:8080/"
        },
        "id": "rqbk9LiD0YFr",
        "outputId": "2675c85c-eeef-4c6a-d041-5290f14a9cfc"
      },
      "execution_count": null,
      "outputs": [
        {
          "output_type": "stream",
          "name": "stdout",
          "text": [
            "Fernando não está na listta\n"
          ]
        }
      ]
    },
    {
      "cell_type": "markdown",
      "source": [
        "### Tabela da verdade\n"
      ],
      "metadata": {
        "id": "GdHKGaFr1VQQ"
      }
    },
    {
      "cell_type": "markdown",
      "source": [
        "- Operador AND:\n",
        "\n",
        "\n",
        "![image.png](data:image/png;base64,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)"
      ],
      "metadata": {
        "id": "cilNbEQe1b78"
      }
    },
    {
      "cell_type": "markdown",
      "source": [
        "- Operador OR:\n",
        "\n",
        "![image.png](data:image/png;base64,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)"
      ],
      "metadata": {
        "id": "7xehx3pv1gHz"
      }
    },
    {
      "cell_type": "markdown",
      "source": [
        "- Operador NOT:\n",
        "\n",
        "![image.png](data:image/png;base64,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)"
      ],
      "metadata": {
        "id": "WZSOIMM91rFO"
      }
    },
    {
      "cell_type": "markdown",
      "source": [
        "### Exercícios:"
      ],
      "metadata": {
        "id": "lOAEtjEn15um"
      }
    },
    {
      "cell_type": "markdown",
      "source": [
        "1. Escreva um programa que peça à pessoa usuária para fornecer dois números e exibir o número maior."
      ],
      "metadata": {
        "id": "omZQuYVc174y"
      }
    },
    {
      "cell_type": "code",
      "source": [
        "numero = float(input(\"Digite um nuemro:\"))\n",
        "numero2 = float(input(\"Digite outro numero:\"))\n",
        "if(numero>numero2):\n",
        "  print(\"{} é maior que {}\".format(numero,numero2))\n",
        "elif(numero == numero2):\n",
        "  print(\"numeros são iguais\")\n",
        "else:\n",
        "  print(\"{} é maior que {}\".format(numero2,numero))"
      ],
      "metadata": {
        "colab": {
          "base_uri": "https://localhost:8080/"
        },
        "id": "de3gYzgw1_IR",
        "outputId": "5ac05f0a-8820-4be6-fe26-c39165b9e85a"
      },
      "execution_count": null,
      "outputs": [
        {
          "output_type": "stream",
          "name": "stdout",
          "text": [
            "Digite um nuemro:1\n",
            "Digite outro numero:1\n",
            "numeros são iguais\n"
          ]
        }
      ]
    },
    {
      "cell_type": "markdown",
      "source": [
        "2. Escreva um programa que solicite o percentual de crescimento de produção de uma empresa e informe se houve um crescimento (porcentagem positiva) ou decrescimento (porcentagem negativa)."
      ],
      "metadata": {
        "id": "B3IZJK8q25OX"
      }
    },
    {
      "cell_type": "code",
      "source": [
        "crescimento = float(input(\"digite a porcentagem de crescimento da impresa\"))\n",
        "if(crescimento > 0):\n",
        "  print(\"O crescimente foi positivo\")\n",
        "elif(crescimento == 0):\n",
        "  print(\" O crescimento se manteve nulo\")\n",
        "else:\n",
        "  print(\"O crescimento foi negativo\")"
      ],
      "metadata": {
        "colab": {
          "base_uri": "https://localhost:8080/"
        },
        "id": "agF8kkiK2cSY",
        "outputId": "16447d54-d302-475b-d1b0-a5305d3c189e"
      },
      "execution_count": null,
      "outputs": [
        {
          "output_type": "stream",
          "name": "stdout",
          "text": [
            "digite a porcentagem de crescimento da impresa0\n",
            " O crescimento se manteve nulo\n"
          ]
        }
      ]
    },
    {
      "cell_type": "markdown",
      "source": [
        "3. Escreva um programa que determine se uma letra fornecida pela pessoa usuária é uma vogal ou consoante."
      ],
      "metadata": {
        "id": "3hg0zSY13jAB"
      }
    },
    {
      "cell_type": "code",
      "source": [
        "letra = str(input(\"Digite uma letra\")).lower()#garantir que será minuscula\n",
        "if letra in ('a', 'e', 'i', 'o', 'u'): #Se letra for uma das vogais\n",
        "  print(\"você digitou uma vogal\")\n",
        "else:\n",
        "  print(\"você digitou uma cosoante\")\n"
      ],
      "metadata": {
        "colab": {
          "base_uri": "https://localhost:8080/"
        },
        "id": "yL0kfbIS3opZ",
        "outputId": "ba1a9344-5655-4d57-96c0-d7914781cef0"
      },
      "execution_count": null,
      "outputs": [
        {
          "output_type": "stream",
          "name": "stdout",
          "text": [
            "Digite uma letraa\n",
            "você digitou uma vogal\n"
          ]
        }
      ]
    },
    {
      "cell_type": "markdown",
      "source": [
        "4. Escreva um programa que leia valores médios de preços de um modelo de carro por 3 anos consecutivos e exiba o valor mais alto e mais baixo entre esses três anos.\n"
      ],
      "metadata": {
        "id": "eGYoQell5IMR"
      }
    },
    {
      "cell_type": "code",
      "source": [
        "carro_2018 = float(input(\"digite o vlaor medio do modelo em 2018\"))\n",
        "carro_2019 = float(input(\"digite o vlaor medio do modelo em 2019\"))\n",
        "carro_2020 = float(input(\"digite o vlaor medio do modelo em 2020\"))\n",
        "\n",
        "if(carro_2018 > carro_2019 and carro_2020):\n",
        "  print(\"O valor médio em 2018 foi maior\")\n",
        "elif(carro_2019 > carro_2018 and carro_2020):\n",
        "  print(\"O valor médio em 2019 foi maior\")\n",
        "elif(carro_2020 > carro_2018 and carro_2019):\n",
        "  print(\"O valor médio em 2020 foi maior\")\n"
      ],
      "metadata": {
        "colab": {
          "base_uri": "https://localhost:8080/"
        },
        "id": "IM7RJORi5Kl2",
        "outputId": "3b432967-9bb6-487f-97f9-5ec19cb69dad"
      },
      "execution_count": null,
      "outputs": [
        {
          "output_type": "stream",
          "name": "stdout",
          "text": [
            "digite o vlaor medio do modelo em 201825\n",
            "digite o vlaor medio do modelo em 201934\n",
            "digite o vlaor medio do modelo em 202023\n",
            "O valor médio em 2019 foi maior\n"
          ]
        }
      ]
    },
    {
      "cell_type": "markdown",
      "source": [
        "5. Escreva um programa que pergunte sobre o preço de três produtos e indique qual é o produto mais barato para comprar."
      ],
      "metadata": {
        "id": "lzXsQKkV6MyX"
      }
    },
    {
      "cell_type": "code",
      "source": [
        "produto_1 = float(input(\"digite o valor do produto 1\"))\n",
        "produto_2 = float(input(\"digite o valor do produto 2\"))\n",
        "produto_3 = float(input(\"digite o valor do produto 3\"))\n",
        "\n",
        "if(produto_1 < produto_2 and produto_3):\n",
        "  print(\"O produto 1 é o mais barato\")\n",
        "elif(produto_2 < produto_1 and produto_3):\n",
        "  print(\"O produto 2 é o mais barato\")\n",
        "else:\n",
        "  print(\"O produto 3 é o mais barato\")"
      ],
      "metadata": {
        "colab": {
          "base_uri": "https://localhost:8080/"
        },
        "id": "eXStamV76QFS",
        "outputId": "336bc478-c5e5-4a0e-d52f-19429fd3a361"
      },
      "execution_count": null,
      "outputs": [
        {
          "output_type": "stream",
          "name": "stdout",
          "text": [
            "digite o valor do produto 120\n",
            "digite o valor do produto 210\n",
            "digite o valor do produto 315\n",
            "O produto 2 é o mais barato\n"
          ]
        }
      ]
    },
    {
      "cell_type": "markdown",
      "source": [
        "6. Escreva um programa que leia três números e os exiba em ordem decrescente."
      ],
      "metadata": {
        "id": "wS-rBlKn64ap"
      }
    },
    {
      "cell_type": "code",
      "source": [
        "numero_1 = float(input(\"Digite um número: \"))\n",
        "numero_2 = float(input(\"Digite outro número: \"))\n",
        "numero_3 = float(input(\"Digite mais um número: \"))\n",
        "\n",
        "numeros = [numero_1, numero_2, numero_3]\n",
        "numeros_ordenados = sorted(numeros, reverse=True)  # Ordena os números em ordem decrescente\n",
        "# função sorte coloca os numeros em outro crescente ou decrescente\n",
        "print(numeros_ordenados)\n"
      ],
      "metadata": {
        "colab": {
          "base_uri": "https://localhost:8080/"
        },
        "id": "WOICt0rt667s",
        "outputId": "89e86c1f-e3cc-4971-feae-5708245a8e23"
      },
      "execution_count": null,
      "outputs": [
        {
          "output_type": "stream",
          "name": "stdout",
          "text": [
            "Digite um número: 3\n",
            "Digite outro número: 2\n",
            "Digite mais um número: 1\n",
            "[1.0, 2.0, 3.0]\n"
          ]
        }
      ]
    },
    {
      "cell_type": "markdown",
      "source": [
        "7)  Escreva um programa que pergunte em qual turno a pessoa usuária estuda (\"manhã\", \"tarde\" ou \"noite\") e exiba a mensagem \"Bom Dia!\", \"Boa Tarde!\", \"Boa Noite!\", ou \"Valor Inválido!\", conforme o caso."
      ],
      "metadata": {
        "id": "GBnmIy4p8ZRa"
      }
    },
    {
      "cell_type": "code",
      "source": [
        "turno = str(input(\"qual turno voce estuda? (Manhã,tarde e noite)\"))\n",
        "if(turno == 'manhã'):\n",
        "  print(\"Bom dia\")\n",
        "elif(turno == 'tarde'):\n",
        "  print(\"Boa tarde\")\n",
        "elif(turno == 'noite'):\n",
        "  print(\"Boa noite\")\n",
        "else:\n",
        "    print(\"comando invalido\")\n"
      ],
      "metadata": {
        "colab": {
          "base_uri": "https://localhost:8080/"
        },
        "id": "YmKGtQ0X9Vef",
        "outputId": "8ed6818d-2eb9-4e28-a8a2-08ca295c6fe8"
      },
      "execution_count": null,
      "outputs": [
        {
          "output_type": "stream",
          "name": "stdout",
          "text": [
            "qual turno voce estuda? (Manhã,tarde e noite)tarde\n",
            "Boa tarde\n"
          ]
        }
      ]
    },
    {
      "cell_type": "markdown",
      "source": [
        "8. Escreva um programa que peça um número inteiro à pessoa usuária e determine se ele é par ou ímpar. Dica: Você pode utilizar o operador módulo %."
      ],
      "metadata": {
        "id": "yzuzG56J-Gq4"
      }
    },
    {
      "cell_type": "code",
      "source": [
        "numero=int(input(\"digite um numero inteiro\"))\n",
        "if(numero % 2 == 0): # se o resto de uma divisao por 2 for igual a 0\n",
        "  print(\"numero par\")\n",
        "else:\n",
        "  print(\"numero impar\")"
      ],
      "metadata": {
        "colab": {
          "base_uri": "https://localhost:8080/"
        },
        "id": "526OfJA8-PAg",
        "outputId": "a76b26ef-7f54-4081-bd99-9d0c92f3d749"
      },
      "execution_count": null,
      "outputs": [
        {
          "output_type": "stream",
          "name": "stdout",
          "text": [
            "digite um numero inteiro3\n",
            "numero impar\n"
          ]
        }
      ]
    },
    {
      "cell_type": "markdown",
      "source": [
        " 9. Escreva um programa que peça um número à pessoa usuária e informe se ele é inteiro ou decimal."
      ],
      "metadata": {
        "id": "nujhLdUu-9EI"
      }
    },
    {
      "cell_type": "code",
      "source": [
        "numero = float(input(\"digite um numero\"))\n",
        "if(numero % 1 == 0 ): #resto da visao por 1 for 0\n",
        "  print(\"o numero é inteiro\")\n",
        "else:\n",
        "  print('o número é decimal')"
      ],
      "metadata": {
        "colab": {
          "base_uri": "https://localhost:8080/"
        },
        "id": "_g-EXHm6_Xuq",
        "outputId": "8fa07392-7384-411d-8c8d-7608a8587d5f"
      },
      "execution_count": null,
      "outputs": [
        {
          "output_type": "stream",
          "name": "stdout",
          "text": [
            "digite um numero2\n",
            "o numero é inteiro\n"
          ]
        }
      ]
    },
    {
      "cell_type": "markdown",
      "source": [
        "# Estruturas de repetição"
      ],
      "metadata": {
        "id": "fp0U-17mBVU0"
      }
    },
    {
      "cell_type": "markdown",
      "source": [
        "Facilitar a analise de códigos repetitivos\n",
        "\n",
        "- estruturas capazes de repetir um bloco durante quantas vezes quisermos\n",
        "-----"
      ],
      "metadata": {
        "id": "gZvCCKUsBpDc"
      }
    },
    {
      "cell_type": "markdown",
      "source": [
        "- While condição:\n",
        "   - bloco de codigo\n",
        "\n",
        "  - irá se repetir até a setença for verdadeira"
      ],
      "metadata": {
        "id": "8g7qgZjwB5P_"
      }
    },
    {
      "cell_type": "code",
      "source": [
        "contador = 1\n",
        "while contador <= 10:\n",
        "  print(contador) #adiciona 1\n",
        "  contador = contador +1 #conta até 10"
      ],
      "metadata": {
        "colab": {
          "base_uri": "https://localhost:8080/"
        },
        "id": "WybF2mvdB2jI",
        "outputId": "331955ea-ea95-411a-b2e3-088170442bab"
      },
      "execution_count": null,
      "outputs": [
        {
          "output_type": "stream",
          "name": "stdout",
          "text": [
            "1\n",
            "2\n",
            "3\n",
            "4\n",
            "5\n",
            "6\n",
            "7\n",
            "8\n",
            "9\n",
            "10\n"
          ]
        }
      ]
    },
    {
      "cell_type": "code",
      "source": [
        "contador = 1\n",
        "while contador <=3:\n",
        "  nota_1 = float(input(\"digite a 1° nota\"))\n",
        "  nota_2 =float(input(\"digite a 2° nota\"))\n",
        "  media = (nota_1+nota_2)/2\n",
        "  print('Média : {}'.format(media))\n",
        "  contador = contador + 1 # fim do loop"
      ],
      "metadata": {
        "colab": {
          "base_uri": "https://localhost:8080/"
        },
        "id": "ti0FuUrKBY57",
        "outputId": "15da41a7-3223-4bfe-a3e4-61a2fe015950"
      },
      "execution_count": null,
      "outputs": [
        {
          "output_type": "stream",
          "name": "stdout",
          "text": [
            "digite a 1° nota3\n",
            "digite a 2° nota4\n",
            "Média : 3.5\n",
            "digite a 1° nota6\n",
            "digite a 2° nota5\n",
            "Média : 5.5\n",
            "digite a 1° nota5\n",
            "digite a 2° nota4\n",
            "Média : 4.5\n"
          ]
        }
      ]
    },
    {
      "cell_type": "markdown",
      "source": [
        "- operadores de atribuição\n",
        "\n",
        "![image.png](data:image/png;base64,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)"
      ],
      "metadata": {
        "id": "JL_yptssDovs"
      }
    },
    {
      "cell_type": "markdown",
      "source": [
        " - For\n",
        "\n",
        " - rodar elemento por elemento\n",
        " - for elemento in conjunto\n",
        "     - codigo a ser executado\n",
        "- função range(inicio, fim , passo)"
      ],
      "metadata": {
        "id": "CAnQxdz1DuhH"
      }
    },
    {
      "cell_type": "code",
      "source": [
        "for contador in range(1,11):\n",
        "  print(contador)\n"
      ],
      "metadata": {
        "colab": {
          "base_uri": "https://localhost:8080/"
        },
        "id": "pJooLIjvERs1",
        "outputId": "cd96a9af-e117-407a-e8a9-836d5bc8725e"
      },
      "execution_count": null,
      "outputs": [
        {
          "output_type": "stream",
          "name": "stdout",
          "text": [
            "1\n",
            "2\n",
            "3\n",
            "4\n",
            "5\n",
            "6\n",
            "7\n",
            "8\n",
            "9\n",
            "10\n",
            "10\n"
          ]
        }
      ]
    },
    {
      "cell_type": "code",
      "source": [
        "for contador in range(1,4): #um a mais do numero q vc deseja conta, exemplo : quero contar 3 medias, 1+3 =4\n",
        "  nota_1 = float(input(\"digite a 1° nota\"))\n",
        "  nota_2 =float(input(\"digite a 2° nota\"))\n",
        "  media = (nota_1+nota_2)/2\n",
        "  print('Média : {}'.format(media))\n"
      ],
      "metadata": {
        "colab": {
          "base_uri": "https://localhost:8080/"
        },
        "id": "vEKamd4_EsOZ",
        "outputId": "1f88a1da-90d8-4d98-90de-8b3f212d8b83"
      },
      "execution_count": null,
      "outputs": [
        {
          "output_type": "stream",
          "name": "stdout",
          "text": [
            "digite a 1° nota3\n",
            "digite a 2° nota2\n",
            "Média : 2.5\n",
            "digite a 1° nota3\n",
            "digite a 2° nota4\n",
            "Média : 3.5\n",
            "digite a 1° nota4\n",
            "digite a 2° nota5\n",
            "Média : 4.5\n"
          ]
        }
      ]
    },
    {
      "cell_type": "markdown",
      "source": [
        "- Coninue e Break -> comando para comandar o laço"
      ],
      "metadata": {
        "id": "tUqK8KFiFigp"
      }
    },
    {
      "cell_type": "code",
      "source": [
        "for i in range(1,6):\n",
        "    if i == 4:\n",
        "        continue #pula o numero 4\n",
        "    print(i)"
      ],
      "metadata": {
        "colab": {
          "base_uri": "https://localhost:8080/"
        },
        "id": "BmEfhrKGFnQS",
        "outputId": "aa22e5e8-9c4d-46fe-860b-ec3196956b70"
      },
      "execution_count": null,
      "outputs": [
        {
          "output_type": "stream",
          "name": "stdout",
          "text": [
            "1\n",
            "2\n",
            "3\n",
            "5\n"
          ]
        }
      ]
    },
    {
      "cell_type": "markdown",
      "source": [
        "- Já o break interrompe a execução do laço completamente, saindo do bloco de código. Ou seja parando o codigo"
      ],
      "metadata": {
        "id": "4HeSOofSFr9g"
      }
    },
    {
      "cell_type": "code",
      "source": [
        "for i in range(1,6):\n",
        "    if i == 4: #para o codigo antes de chegar no 4\n",
        "        break\n",
        "    print(i)"
      ],
      "metadata": {
        "colab": {
          "base_uri": "https://localhost:8080/"
        },
        "id": "RJwHObKuFv46",
        "outputId": "2c935a20-c5b8-4b81-fe07-00969e670379"
      },
      "execution_count": null,
      "outputs": [
        {
          "output_type": "stream",
          "name": "stdout",
          "text": [
            "1\n",
            "2\n",
            "3\n"
          ]
        }
      ]
    },
    {
      "cell_type": "markdown",
      "source": [
        "## Exercicios"
      ],
      "metadata": {
        "id": "Z5_vKROCF5hJ"
      }
    },
    {
      "cell_type": "markdown",
      "source": [
        "1. Escreva um programa que peça dois números inteiros e imprima todos os números inteiros entre eles."
      ],
      "metadata": {
        "id": "0aoxJXp2L0A3"
      }
    },
    {
      "cell_type": "code",
      "source": [
        "num = int(input(\"digite um numero inteiro \"))\n",
        "num2 = int(input(\"digite outro numero inteiro \"))\n",
        "for i in range(num, num2+1):\n",
        "  if(i % 1 == 0 ):\n",
        "    print(i)"
      ],
      "metadata": {
        "colab": {
          "base_uri": "https://localhost:8080/"
        },
        "id": "g3AHk5KAF7Jr",
        "outputId": "4481f764-89c1-4586-eb84-c63574e2d236"
      },
      "execution_count": null,
      "outputs": [
        {
          "output_type": "stream",
          "name": "stdout",
          "text": [
            "digite um numero inteiro 1\n",
            "digite outro numero inteiro 10\n",
            "1\n",
            "2\n",
            "3\n",
            "4\n",
            "5\n",
            "6\n",
            "7\n",
            "8\n",
            "9\n",
            "10\n"
          ]
        }
      ]
    },
    {
      "cell_type": "markdown",
      "source": [
        "2. Escreva um programa para calcular quantos dias levará para a colônia de uma bactéria A ultrapassar ou igualar a colônia de uma bactéria B, com base nas taxas de crescimento de 3% e 1,5% respectivamente. Considere que a colônia A inicia com 4 elementos e a B com 10."
      ],
      "metadata": {
        "id": "NLL2GA7gMeoQ"
      }
    },
    {
      "cell_type": "code",
      "source": [
        "# Valores iniciais\n",
        "bacteria_a = 4  # População inicial da colônia A\n",
        "bacteria_b = 10  # População inicial da colônia B\n",
        "\n",
        "taxa_a = 0.03  # Taxa de crescimento de 3% para colônia A\n",
        "taxa_b = 0.015  # Taxa de crescimento de 1,5% para colônia B\n",
        "\n",
        "dias = 0  # Contador de dias\n",
        "\n",
        "# Loop até que a população de A ultrapasse ou iguale a de B\n",
        "while bacteria_a < bacteria_b:\n",
        "    bacteria_a += bacteria_a * taxa_a  # Crescimento da colônia A\n",
        "    bacteria_b += bacteria_b * taxa_b  # Crescimento da colônia B\n",
        "    dias += 1  # Incrementa o número de dias\n",
        "\n",
        "# Resultado\n",
        "print(f\"Serão necessários {dias} dias para que a colônia A ultrapasse ou iguale a colônia B.\")\n"
      ],
      "metadata": {
        "colab": {
          "base_uri": "https://localhost:8080/"
        },
        "id": "f18VBpBSMnWZ",
        "outputId": "62fea814-e3f7-49e2-f1c0-4d6bf9ea5f00"
      },
      "execution_count": null,
      "outputs": [
        {
          "output_type": "stream",
          "name": "stdout",
          "text": [
            "Serão necessários 63 dias para que a colônia A ultrapasse ou iguale a colônia B.\n"
          ]
        }
      ]
    },
    {
      "cell_type": "markdown",
      "source": [
        "3. Para tratar uma quantidade de 15 dados de avaliações de pessoas usuárias de um serviço da empresa, precisamos verificar se as notas são válidas. Então, escreva um programa que vai receber a nota de 0 a 5 de todos os dados e verificar se é um valor válido. Caso seja inserido uma nota acima de 5 ou abaixo de 0, repita até que a pessoa usuária insira um valor válido."
      ],
      "metadata": {
        "id": "6Q4RcuA1NfVt"
      }
    },
    {
      "cell_type": "code",
      "source": [
        "notas = []\n",
        "\n",
        "for i in range(1, 16):  # Loop de 1 até 15 (inclusivo)\n",
        "    while True:  # Repetição até que uma nota válida seja inserida\n",
        "        try:\n",
        "            nota = float(input(f\"Digite a nota {i} (entre 0 e 5): \"))  # Pede a nota\n",
        "            if 0 <= nota <= 5:  # Verifica se a nota é válida (entre 0 e 5)\n",
        "                notas.append(nota)  # Adiciona a nota à lista\n",
        "                break  # Sai do loop se a nota for válida\n",
        "            else:\n",
        "                print(\"Nota inválida! A nota deve estar entre 0 e 5.\")  # Mensagem de erro\n",
        "        except ValueError:\n",
        "            print(\"Entrada inválida! Por favor, insira um número.\")  # Trata entradas não numéricas\n",
        "\n",
        "# Exibe as notas válidas inseridas\n",
        "print('As notas válidas foram: {}'.format(notas))\n"
      ],
      "metadata": {
        "colab": {
          "base_uri": "https://localhost:8080/",
          "height": 905
        },
        "id": "6a_6UoGsNYn-",
        "outputId": "611158cc-dde2-4d37-e8c0-02e3e90aaa4b"
      },
      "execution_count": null,
      "outputs": [
        {
          "name": "stdout",
          "output_type": "stream",
          "text": [
            "digite uma nota1\n",
            "digite uma nota2\n",
            "digite uma nota3\n",
            "digite uma nota4\n",
            "digite uma nota5\n",
            "digite uma nota6\n",
            "nota invalida\n",
            "digite uma nota7\n",
            "nota invalida\n",
            "digite uma nota8\n",
            "nota invalida\n",
            "digite uma nota9\n",
            "nota invalida\n",
            "digite uma nota0\n",
            "nota invalida\n",
            "digite uma nota10\n",
            "nota invalida\n",
            "digite uma nota11\n",
            "nota invalida\n",
            "digite uma nota12\n",
            "nota invalida\n",
            "digite uma nota13\n",
            "nota invalida\n",
            "digite uma nota14\n",
            "nota invalida\n",
            "digite uma nota15\n",
            "nota invalida\n",
            "digite uma nota17\n",
            "nota invalida\n",
            "digite uma nota1\n",
            "digite uma nota1\n",
            "digite uma nota1\n",
            "digite uma nota1\n",
            "digite uma nota1\n",
            "digite uma nota1\n",
            "digite uma nota1\n",
            "digite uma nota1\n",
            "digite uma nota1\n",
            "digite uma nota1\n",
            "digite uma nota\n"
          ]
        },
        {
          "output_type": "error",
          "ename": "ValueError",
          "evalue": "could not convert string to float: ''",
          "traceback": [
            "\u001b[0;31m---------------------------------------------------------------------------\u001b[0m",
            "\u001b[0;31mValueError\u001b[0m                                Traceback (most recent call last)",
            "\u001b[0;32m<ipython-input-6-56387d0f6279>\u001b[0m in \u001b[0;36m<cell line: 3>\u001b[0;34m()\u001b[0m\n\u001b[1;32m      3\u001b[0m \u001b[0;32mfor\u001b[0m \u001b[0mi\u001b[0m \u001b[0;32min\u001b[0m \u001b[0mrange\u001b[0m\u001b[0;34m(\u001b[0m\u001b[0;36m1\u001b[0m\u001b[0;34m,\u001b[0m\u001b[0;36m16\u001b[0m\u001b[0;34m)\u001b[0m\u001b[0;34m:\u001b[0m\u001b[0;34m\u001b[0m\u001b[0;34m\u001b[0m\u001b[0m\n\u001b[1;32m      4\u001b[0m   \u001b[0;32mwhile\u001b[0m \u001b[0;32mTrue\u001b[0m\u001b[0;34m:\u001b[0m \u001b[0;31m#até que seja verdade (valor entre 1 e 15)\u001b[0m\u001b[0;34m\u001b[0m\u001b[0;34m\u001b[0m\u001b[0m\n\u001b[0;32m----> 5\u001b[0;31m     \u001b[0mnota\u001b[0m \u001b[0;34m=\u001b[0m \u001b[0mfloat\u001b[0m\u001b[0;34m(\u001b[0m\u001b[0minput\u001b[0m\u001b[0;34m(\u001b[0m\u001b[0;34m\"digite uma nota\"\u001b[0m\u001b[0;34m)\u001b[0m\u001b[0;34m)\u001b[0m\u001b[0;34m\u001b[0m\u001b[0;34m\u001b[0m\u001b[0m\n\u001b[0m\u001b[1;32m      6\u001b[0m     \u001b[0;32mif\u001b[0m\u001b[0;34m(\u001b[0m\u001b[0mnota\u001b[0m\u001b[0;34m>\u001b[0m\u001b[0;36m0\u001b[0m \u001b[0;32mand\u001b[0m \u001b[0mnota\u001b[0m\u001b[0;34m<=\u001b[0m\u001b[0;36m5\u001b[0m\u001b[0;34m)\u001b[0m\u001b[0;34m:\u001b[0m\u001b[0;34m\u001b[0m\u001b[0;34m\u001b[0m\u001b[0m\n\u001b[1;32m      7\u001b[0m       \u001b[0mnotas\u001b[0m\u001b[0;34m.\u001b[0m\u001b[0mappend\u001b[0m\u001b[0;34m(\u001b[0m\u001b[0mnota\u001b[0m\u001b[0;34m)\u001b[0m\u001b[0;34m\u001b[0m\u001b[0;34m\u001b[0m\u001b[0m\n",
            "\u001b[0;31mValueError\u001b[0m: could not convert string to float: ''"
          ]
        }
      ]
    },
    {
      "cell_type": "markdown",
      "source": [
        "4. Desenvolva um programa que leia um conjunto indeterminado de temperaturas em Celsius e informe a média delas. A leitura deve ser encerrada ao ser enviado o valor -273°C."
      ],
      "metadata": {
        "id": "fnoM_lEAQupj"
      }
    },
    {
      "cell_type": "code",
      "source": [
        "i =0\n",
        "temperatura_soma = 0\n",
        "while True:\n",
        "  temperatura = float(input(\"digite uma temperatura\"))\n",
        "  if(temperatura <-273):\n",
        "    print(\"temperatura invalida\")\n",
        "    break; # sai do loop\n",
        "\n",
        "  else:\n",
        "    i += 1\n",
        "    temperatura_soma += temperatura\n",
        "    temperatura_media = temperatura_soma/i\n",
        "\n",
        "print(\"valor media de temperatura é igual a {}\".format(temperatura_media))\n"
      ],
      "metadata": {
        "colab": {
          "base_uri": "https://localhost:8080/"
        },
        "id": "9DZAvtMIQ25L",
        "outputId": "b563e874-634d-43f2-bb50-80e33ea9d134"
      },
      "execution_count": null,
      "outputs": [
        {
          "output_type": "stream",
          "name": "stdout",
          "text": [
            "digite uma temperatura24\n",
            "digite uma temperatura34\n",
            "digite uma temperatura34\n",
            "digite uma temperatura-2\n",
            "digite uma temperatura-273\n",
            "digite uma temperatura-274\n",
            "temperatura invalida\n",
            "valor media de temperatura é igual a -36.6\n"
          ]
        }
      ]
    },
    {
      "cell_type": "markdown",
      "source": [
        "5. Escreva um programa que calcule o fatorial de um número inteiro fornecido pela pessoa usuária. Lembrando que o fatorial de um número inteiro é a multiplicação desse número por todos os seus antecessores até o número 1. Por exemplo, o fatorial de 5 é 5 x 4 x 3 x 2 x 1 = 120."
      ],
      "metadata": {
        "id": "vDwEWTa0Tncm"
      }
    },
    {
      "cell_type": "code",
      "source": [
        "fatorial = int(input(\"Digite um número para calcular seu fatorial: \"))\n",
        "fatorial_num = 1  # Inicializa com 1, pois o fatorial é um produto\n",
        "\n",
        "# Loop para calcular o fatorial\n",
        "for i in range(fatorial, 0, -1):\n",
        "    fatorial_num *= i\n",
        "\n",
        "print(f\"O fatorial de {fatorial} é {fatorial_num}\")\n"
      ],
      "metadata": {
        "colab": {
          "base_uri": "https://localhost:8080/"
        },
        "id": "f5ztR4mgTm3-",
        "outputId": "8ba476ba-5c7a-4dd6-af6c-6514610104a0"
      },
      "execution_count": null,
      "outputs": [
        {
          "output_type": "stream",
          "name": "stdout",
          "text": [
            "Digite um número para calcular seu fatorial: 3\n",
            "O fatorial de 3 é 6\n"
          ]
        }
      ]
    },
    {
      "cell_type": "markdown",
      "source": [
        "# Estruturas de dados\n"
      ],
      "metadata": {
        "id": "mbi0BU8RVTE4"
      }
    },
    {
      "cell_type": "markdown",
      "source": [
        "## Listas:\n",
        "As armezanar uma coleção de itens em ordem\n",
        "\n",
        "- separados em indie jonas > indice 0, 9.5 indice 1"
      ],
      "metadata": {
        "id": "sIJHLACdXN-0"
      }
    },
    {
      "cell_type": "code",
      "source": [
        "lista = ['Jonas', 9.5, 9.0, 8.0, True] #aprovado\n",
        "lista"
      ],
      "metadata": {
        "colab": {
          "base_uri": "https://localhost:8080/"
        },
        "id": "nm4ZGUUtXUf8",
        "outputId": "25ebf923-8ae3-4b0e-d861-bff09378e888"
      },
      "execution_count": null,
      "outputs": [
        {
          "output_type": "execute_result",
          "data": {
            "text/plain": [
              "['Jonas', 9.5, 9.0, 8.0, True]"
            ]
          },
          "metadata": {},
          "execution_count": 27
        }
      ]
    },
    {
      "cell_type": "code",
      "source": [
        "lista[0]"
      ],
      "metadata": {
        "colab": {
          "base_uri": "https://localhost:8080/",
          "height": 35
        },
        "id": "wFY9MoIqXsqJ",
        "outputId": "69a20443-e11c-465f-ea65-c5107ad2c77c"
      },
      "execution_count": null,
      "outputs": [
        {
          "output_type": "execute_result",
          "data": {
            "text/plain": [
              "'Jonas'"
            ],
            "application/vnd.google.colaboratory.intrinsic+json": {
              "type": "string"
            }
          },
          "metadata": {},
          "execution_count": 28
        }
      ]
    },
    {
      "cell_type": "code",
      "source": [
        "lista[2]"
      ],
      "metadata": {
        "colab": {
          "base_uri": "https://localhost:8080/"
        },
        "id": "QGTXmWlXXveh",
        "outputId": "63e307bb-a502-415a-f85e-477b4b807ba5"
      },
      "execution_count": null,
      "outputs": [
        {
          "output_type": "execute_result",
          "data": {
            "text/plain": [
              "9.0"
            ]
          },
          "metadata": {},
          "execution_count": 29
        }
      ]
    },
    {
      "cell_type": "code",
      "source": [
        "lista[-4]"
      ],
      "metadata": {
        "colab": {
          "base_uri": "https://localhost:8080/"
        },
        "id": "sYFDNjOGXxRV",
        "outputId": "fda6cf2d-6a45-4035-ae8d-9838154c472b"
      },
      "execution_count": null,
      "outputs": [
        {
          "output_type": "execute_result",
          "data": {
            "text/plain": [
              "9.5"
            ]
          },
          "metadata": {},
          "execution_count": 32
        }
      ]
    },
    {
      "cell_type": "code",
      "source": [
        "lista[-3]"
      ],
      "metadata": {
        "colab": {
          "base_uri": "https://localhost:8080/"
        },
        "id": "Ek-vdSBHX1Zg",
        "outputId": "1274e371-e26a-4769-e03a-a39c69c2cb6f"
      },
      "execution_count": null,
      "outputs": [
        {
          "output_type": "execute_result",
          "data": {
            "text/plain": [
              "9.0"
            ]
          },
          "metadata": {},
          "execution_count": 33
        }
      ]
    },
    {
      "cell_type": "code",
      "source": [
        "for elemento in lista:\n",
        "  print(elemento)"
      ],
      "metadata": {
        "colab": {
          "base_uri": "https://localhost:8080/"
        },
        "id": "rUMPNWLNX3kz",
        "outputId": "040ec42e-1933-4d29-e93d-cde10236a55a"
      },
      "execution_count": null,
      "outputs": [
        {
          "output_type": "stream",
          "name": "stdout",
          "text": [
            "Jonas\n",
            "9.5\n",
            "9.0\n",
            "8.0\n",
            "True\n"
          ]
        }
      ]
    },
    {
      "cell_type": "code",
      "source": [
        "lista[3] = 10\n",
        "lista"
      ],
      "metadata": {
        "colab": {
          "base_uri": "https://localhost:8080/"
        },
        "id": "TkQo6WqXX83M",
        "outputId": "223eb6d6-6583-45e6-cd3b-40856d071542"
      },
      "execution_count": null,
      "outputs": [
        {
          "output_type": "execute_result",
          "data": {
            "text/plain": [
              "['Jonas', 9.5, 9.0, 10, True]"
            ]
          },
          "metadata": {},
          "execution_count": 36
        }
      ]
    },
    {
      "cell_type": "code",
      "source": [
        "media = (lista[1] + lista[2]+ lista[3])/3\n",
        "media"
      ],
      "metadata": {
        "colab": {
          "base_uri": "https://localhost:8080/"
        },
        "id": "_eTpyWBqYC5o",
        "outputId": "5daf5c8c-a744-40c1-968e-bbb686049bff"
      },
      "execution_count": null,
      "outputs": [
        {
          "output_type": "execute_result",
          "data": {
            "text/plain": [
              "9.5"
            ]
          },
          "metadata": {},
          "execution_count": 37
        }
      ]
    },
    {
      "cell_type": "markdown",
      "source": [
        "## Para saber mais: String - uma sequência de caracteres"
      ],
      "metadata": {
        "id": "xV_ih_uNYV_e"
      }
    },
    {
      "cell_type": "code",
      "source": [
        "linguagem = 'Python'"
      ],
      "metadata": {
        "id": "GOJjlDTYYYMR"
      },
      "execution_count": null,
      "outputs": []
    },
    {
      "cell_type": "code",
      "source": [
        "print(linguagem[0], linguagem[1], linguagem[2], linguagem[3], linguagem[4], linguagem[5])"
      ],
      "metadata": {
        "colab": {
          "base_uri": "https://localhost:8080/"
        },
        "id": "9Mmx95KHYaUq",
        "outputId": "cdca1961-61e9-4e72-a847-d22976e308f8"
      },
      "execution_count": null,
      "outputs": [
        {
          "output_type": "stream",
          "name": "stdout",
          "text": [
            "P y t h o n\n"
          ]
        }
      ]
    },
    {
      "cell_type": "code",
      "source": [
        "print(linguagem[3])"
      ],
      "metadata": {
        "colab": {
          "base_uri": "https://localhost:8080/"
        },
        "id": "iQNWmpNPYbkx",
        "outputId": "b832fac0-c6aa-49ea-8a9a-3d363030b2d0"
      },
      "execution_count": null,
      "outputs": [
        {
          "output_type": "stream",
          "name": "stdout",
          "text": [
            "h\n"
          ]
        }
      ]
    },
    {
      "cell_type": "code",
      "source": [
        "duvida = 'Quem veio antes? O ovo? Ou foi a serpente?'\n",
        "lista_palavras = duvida.split('?') #separa apartir da interrogação, comando split\n",
        "print(lista_palavras)"
      ],
      "metadata": {
        "colab": {
          "base_uri": "https://localhost:8080/"
        },
        "id": "ZN1zIlI7Yru8",
        "outputId": "1a968268-4865-44cb-acb9-7094ada60f7e"
      },
      "execution_count": null,
      "outputs": [
        {
          "output_type": "stream",
          "name": "stdout",
          "text": [
            "['Quem veio antes', ' O ovo', ' Ou foi a serpente', '']\n"
          ]
        }
      ]
    },
    {
      "cell_type": "code",
      "source": [
        "misturas = ['Tintas: vermelho, azul e amarelo',\n",
        "            'Verde: mistura de azul e amarelo',\n",
        "            'Laranja: mistura de vermelho e amarelo',\n",
        "            'Roxo: mistura de vermelho e azul']\n",
        "unificador = '. '\n",
        "string_misturas = unificador.join(misturas) #adiciona um termo e unifica ao final\n",
        "print(string_misturas)"
      ],
      "metadata": {
        "id": "DzNdfb7mY2vy"
      },
      "execution_count": null,
      "outputs": []
    },
    {
      "cell_type": "markdown",
      "source": [
        "## Manipulação de listas"
      ],
      "metadata": {
        "id": "HJs4WVETZK3H"
      }
    },
    {
      "cell_type": "markdown",
      "source": [
        "- Quantidade de elementos -> Função Len()"
      ],
      "metadata": {
        "id": "esc4ZncyZOQu"
      }
    },
    {
      "cell_type": "code",
      "source": [
        "lista = ['Jonas', 9.5, 9.0, 8.0, True]\n",
        "len(lista)"
      ],
      "metadata": {
        "colab": {
          "base_uri": "https://localhost:8080/"
        },
        "id": "I4fEpEIrZS0r",
        "outputId": "ada541b4-97b3-4d0a-f7fb-7bb20c7e1501"
      },
      "execution_count": null,
      "outputs": [
        {
          "output_type": "execute_result",
          "data": {
            "text/plain": [
              "5"
            ]
          },
          "metadata": {},
          "execution_count": 45
        }
      ]
    },
    {
      "cell_type": "markdown",
      "source": [
        "- Partição -> selecionar um subconjunto de elementos de uma lista -> lista[inicio:fim] ond einicio é o primeiro elemento a ser incluído e fim é o índice do primeiro elemento a ser excluído da partição."
      ],
      "metadata": {
        "id": "VhU4lZ0bZdEs"
      }
    },
    {
      "cell_type": "code",
      "source": [
        "lista[1:4] #o fim é o ultimo termo a ser excluido, se queremos 3 indices logo 3+1 =4"
      ],
      "metadata": {
        "colab": {
          "base_uri": "https://localhost:8080/"
        },
        "id": "HXDFXPfbZ1_l",
        "outputId": "97723744-e94c-4207-c2b6-aef0ddd12862"
      },
      "execution_count": null,
      "outputs": [
        {
          "output_type": "execute_result",
          "data": {
            "text/plain": [
              "[9.5, 9.0, 8.0]"
            ]
          },
          "metadata": {},
          "execution_count": 47
        }
      ]
    },
    {
      "cell_type": "code",
      "source": [
        "lista[1:3]"
      ],
      "metadata": {
        "colab": {
          "base_uri": "https://localhost:8080/"
        },
        "id": "aqnKBqTRZ_-I",
        "outputId": "7bcf3183-150e-4708-df5d-2c255a90941b"
      },
      "execution_count": null,
      "outputs": [
        {
          "output_type": "execute_result",
          "data": {
            "text/plain": [
              "[9.5, 9.0]"
            ]
          },
          "metadata": {},
          "execution_count": 48
        }
      ]
    },
    {
      "cell_type": "code",
      "source": [
        "lista[:3] # do primeiro até o 3°"
      ],
      "metadata": {
        "colab": {
          "base_uri": "https://localhost:8080/"
        },
        "id": "kXpPbzihaEy3",
        "outputId": "722bc348-8c22-4af3-8a22-da9083c7b557"
      },
      "execution_count": null,
      "outputs": [
        {
          "output_type": "execute_result",
          "data": {
            "text/plain": [
              "['Jonas', 9.5, 9.0]"
            ]
          },
          "metadata": {},
          "execution_count": 49
        }
      ]
    },
    {
      "cell_type": "markdown",
      "source": [
        "- Adicionar uma elemento ao final da lista -> Função append()"
      ],
      "metadata": {
        "id": "9d62nWT1aNxG"
      }
    },
    {
      "cell_type": "code",
      "source": [
        "lista.append(media) #acrescenta o valor da media\n",
        "print(lista)"
      ],
      "metadata": {
        "colab": {
          "base_uri": "https://localhost:8080/"
        },
        "id": "F9PQCXgDaTYu",
        "outputId": "d7ceefba-ad3c-45dd-e790-a18e9cdad8b6"
      },
      "execution_count": null,
      "outputs": [
        {
          "output_type": "stream",
          "name": "stdout",
          "text": [
            "['Jonas', 9.0, 8.0, True, 9.5]\n"
          ]
        }
      ]
    },
    {
      "cell_type": "markdown",
      "source": [
        "- Retirar o ultimo elemento da lista -> função remove()"
      ],
      "metadata": {
        "id": "YpObG54oaq44"
      }
    },
    {
      "cell_type": "code",
      "source": [
        "lista.remove(media)\n",
        "print(lista)"
      ],
      "metadata": {
        "colab": {
          "base_uri": "https://localhost:8080/"
        },
        "id": "hEY2KmUOavTX",
        "outputId": "fc25d4cc-9f8e-4670-e75c-be4057a63d10"
      },
      "execution_count": null,
      "outputs": [
        {
          "output_type": "stream",
          "name": "stdout",
          "text": [
            "['Jonas', 9.0, 8.0, True]\n"
          ]
        }
      ]
    },
    {
      "cell_type": "markdown",
      "source": [
        "adicionar varios elementos ao fim da lista -> Extend([])"
      ],
      "metadata": {
        "id": "KFaWTifybMGd"
      }
    },
    {
      "cell_type": "code",
      "source": [
        "lista.extend([10,0,1])\n",
        "print(lista)"
      ],
      "metadata": {
        "colab": {
          "base_uri": "https://localhost:8080/"
        },
        "id": "Aa6VImu9bT17",
        "outputId": "91ffc330-7533-4a71-f32b-560b4bcc9199"
      },
      "execution_count": null,
      "outputs": [
        {
          "output_type": "stream",
          "name": "stdout",
          "text": [
            "['Jonas', 9.0, 8.0, True, 10, 0, 1]\n"
          ]
        }
      ]
    },
    {
      "cell_type": "code",
      "source": [
        "lista.remove(1)\n",
        "lista"
      ],
      "metadata": {
        "id": "CI6JlSJjbqgs",
        "outputId": "29e5dd68-8dc8-43fe-9ad6-679016e08506",
        "colab": {
          "base_uri": "https://localhost:8080/"
        }
      },
      "execution_count": null,
      "outputs": [
        {
          "output_type": "execute_result",
          "data": {
            "text/plain": [
              "['Jonas', 9.0, 8.0, 10, 0]"
            ]
          },
          "metadata": {},
          "execution_count": 64
        }
      ]
    }
  ]
}